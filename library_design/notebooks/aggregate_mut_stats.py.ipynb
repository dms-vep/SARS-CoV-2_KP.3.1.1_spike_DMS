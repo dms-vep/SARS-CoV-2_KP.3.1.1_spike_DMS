{
 "cells": [
  {
   "cell_type": "markdown",
   "id": "f3c05df4-6ae9-4ff2-9de9-99be9c3e800c",
   "metadata": {},
   "source": [
    "# Aggregate statistics on mutations"
   ]
  },
  {
   "cell_type": "code",
   "execution_count": null,
   "id": "541890b7-ce58-4a2d-809f-147a9817fee3",
   "metadata": {},
   "outputs": [],
   "source": [
    "# get variables from `snakemake`\n",
    "sequential_to_reference_csv = snakemake.input.sequential_to_reference\n",
    "usher_mut_counts_csv = snakemake.input.usher_mut_counts\n",
    "usher_recent_mut_counts_csv = snakemake.input.usher_recent_mut_counts\n",
    "pango_lineage_counts_csv = snakemake.input.pango_lineage_counts\n",
    "alignment_counts_csv = snakemake.input.alignment_counts\n",
    "mutation_stats_csv = snakemake.output.mutation_stats"
   ]
  },
  {
   "cell_type": "code",
   "execution_count": null,
   "id": "cb3277d7-e496-4152-9000-8bf4eebfb60c",
   "metadata": {},
   "outputs": [],
   "source": [
    "import pandas as pd"
   ]
  },
  {
   "cell_type": "markdown",
   "id": "3625eb99-ed3f-4415-9a69-d03e04014f99",
   "metadata": {},
   "source": [
    "Read the data:"
   ]
  },
  {
   "cell_type": "code",
   "execution_count": null,
   "id": "94d15ad5-bc6a-444c-827a-db3cfa29745b",
   "metadata": {},
   "outputs": [],
   "source": [
    "sequential_to_reference = pd.read_csv(sequential_to_reference_csv)\n",
    "\n",
    "usher_mut_counts = pd.read_csv(usher_mut_counts_csv)\n",
    "\n",
    "usher_recent_mut_counts = pd.read_csv(usher_recent_mut_counts_csv)\n",
    "\n",
    "pango_lineage_counts = pd.read_csv(pango_lineage_counts_csv)\n",
    "\n",
    "alignment_counts = pd.read_csv(alignment_counts_csv)"
   ]
  },
  {
   "cell_type": "code",
   "execution_count": null,
   "id": "2cca8095-6b66-4de0-8338-f5140927da84",
   "metadata": {},
   "outputs": [],
   "source": [
    "alignment_counts"
   ]
  },
  {
   "cell_type": "markdown",
   "id": "1128ddcf-e9ed-47c4-8647-c014adb4ce21",
   "metadata": {},
   "source": [
    "Aggregate the different counts of the mutations:"
   ]
  },
  {
   "cell_type": "code",
   "execution_count": null,
   "id": "887f2b51-0dcc-4440-a864-00eaddf14569",
   "metadata": {},
   "outputs": [],
   "source": [
    "aas = list(\"ACDEFGHIKLMNPQRSTVWY*-\")\n",
    "\n",
    "df = (\n",
    "    sequential_to_reference\n",
    "    .rename(columns={\"aa\": \"wildtype_aa\"})\n",
    "    .merge(pd.DataFrame({\"mutant_aa\": aas}), how=\"cross\")\n",
    "    .assign(\n",
    "        reference_site=lambda x: x[\"reference_site\"].astype(str),\n",
    "        sequential_site=lambda x: x[\"sequential_site\"],\n",
    "    )\n",
    "    .merge(\n",
    "        usher_mut_counts\n",
    "        .rename(columns={\"site\": \"reference_site\", \"count\": \"UShER_count\"})\n",
    "        .assign(reference_site=lambda x: x[\"reference_site\"].astype(str)),\n",
    "        how=\"outer\",\n",
    "        on=[\"reference_site\", \"mutant_aa\"],\n",
    "        validate=\"one_to_one\",\n",
    "    )\n",
    "    .merge(\n",
    "        usher_recent_mut_counts\n",
    "        .rename(columns={\"site\": \"reference_site\", \"count\": \"UShER_recent_count\"})\n",
    "        .assign(reference_site=lambda x: x[\"reference_site\"].astype(str)),\n",
    "        how=\"outer\",\n",
    "        on=[\"reference_site\", \"mutant_aa\"],\n",
    "        validate=\"one_to_one\",\n",
    "    )\n",
    "    .merge(\n",
    "        alignment_counts\n",
    "        .assign(reference_site=lambda x: x[\"site\"].astype(str))\n",
    "        .rename(columns={\"count\": \"alignment_count\", \"mutant\": \"mutant_aa\"})\n",
    "        [[\"reference_site\", \"alignment_count\", \"mutant_aa\"]],\n",
    "        how=\"outer\",\n",
    "        on=[\"reference_site\", \"mutant_aa\"],\n",
    "        validate=\"one_to_one\",\n",
    "    )\n",
    "    .merge(\n",
    "        pango_lineage_counts\n",
    "        [[\"reference_site\", \"mutant_aa\"]]\n",
    "        .assign(\n",
    "            reference_site=lambda x: x[\"reference_site\"].astype(str),\n",
    "            in_pango_lineage=True,\n",
    "        ),\n",
    "        how=\"outer\",\n",
    "        on=[\"reference_site\", \"mutant_aa\"],\n",
    "        validate=\"one_to_one\",\n",
    "    )\n",
    "    .query(\"sequential_site.notnull()\")\n",
    "    .assign(\n",
    "        mutated_from_reference=lambda x: x[\"wildtype_aa\"] != x[\"reference_aa\"],\n",
    "        UShER_count=lambda x: x[\"UShER_count\"].fillna(0).astype(int),\n",
    "        UShER_recent_count=lambda x: x[\"UShER_recent_count\"].fillna(0).astype(int),\n",
    "        alignment_count=lambda x: x[\"alignment_count\"].fillna(0).astype(int),\n",
    "        in_pango_lineage=lambda x: x[\"in_pango_lineage\"].fillna(False).astype(bool),\n",
    "        sequential_site=lambda x: x[\"sequential_site\"].astype(int),\n",
    "    )\n",
    "    .sort_values([\"sequential_site\", \"mutant_aa\"])\n",
    ")\n",
    "\n",
    "assert df[\"sequential_site\"].nunique() == len(\n",
    "    df.groupby([\"sequential_site\", \"reference_site\", \"wildtype_aa\", \"reference_aa\"])\n",
    ")\n",
    "assert df[\"sequential_site\"].max() * len(aas) == len(df)\n",
    "\n",
    "df.to_csv(mutation_stats_csv, index=False)\n",
    "\n",
    "df"
   ]
  },
  {
   "cell_type": "code",
   "execution_count": null,
   "id": "8990d1af-e3c4-446f-865b-8a1f3df804f0",
   "metadata": {},
   "outputs": [],
   "source": []
  }
 ],
 "metadata": {
  "kernelspec": {
   "display_name": "Python 3 (ipykernel)",
   "language": "python",
   "name": "python3"
  },
  "language_info": {
   "codemirror_mode": {
    "name": "ipython",
    "version": 3
   },
   "file_extension": ".py",
   "mimetype": "text/x-python",
   "name": "python",
   "nbconvert_exporter": "python",
   "pygments_lexer": "ipython3",
   "version": "3.12.5"
  }
 },
 "nbformat": 4,
 "nbformat_minor": 5
}
