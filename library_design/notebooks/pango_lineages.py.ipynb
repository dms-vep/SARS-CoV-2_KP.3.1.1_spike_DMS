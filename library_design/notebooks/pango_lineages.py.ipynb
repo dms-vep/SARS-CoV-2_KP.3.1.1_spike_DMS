{
 "cells": [
  {
   "cell_type": "markdown",
   "id": "cd65ea1a-49f0-4772-90c7-89e67fbb700e",
   "metadata": {},
   "source": [
    "# Get information on Pango lineages"
   ]
  },
  {
   "cell_type": "code",
   "execution_count": null,
   "id": "c0b5c0bc-64b5-496a-97fa-951b2b9776e0",
   "metadata": {},
   "outputs": [],
   "source": [
    "# get variables from snakemake\n",
    "variant_mutations_csv = snakemake.input.variant_mutations\n",
    "pango_lineages_json = snakemake.params.pango_lineages_json\n",
    "variant_lineage = snakemake.params.variant_lineage\n",
    "mutations_by_lineage_csv = snakemake.output.mutations_by_lineage\n",
    "mutations_all_csv = snakemake.output.mutations_all"
   ]
  },
  {
   "cell_type": "code",
   "execution_count": null,
   "id": "1c6861e3-8a6c-4946-90f2-dd7fd0cedce1",
   "metadata": {},
   "outputs": [],
   "source": [
    "import json\n",
    "import urllib\n",
    "\n",
    "import pandas as pd"
   ]
  },
  {
   "cell_type": "markdown",
   "id": "b9a460fd-dbb0-4f8f-a626-7955e92b03d1",
   "metadata": {},
   "source": [
    "Read Pango lineage definitions:"
   ]
  },
  {
   "cell_type": "code",
   "execution_count": null,
   "id": "686ba3fe-f05f-45bf-b403-bc2a07a04135",
   "metadata": {},
   "outputs": [],
   "source": [
    "print(f\"Reading Pango lineage definitions from {pango_lineages_json}\")\n",
    "with urllib.request.urlopen(pango_lineages_json) as url:\n",
    "    pango_lineages = json.load(url)\n",
    "print(f\"Read definitions for {len(pango_lineages)} lineages\")"
   ]
  },
  {
   "cell_type": "code",
   "execution_count": null,
   "id": "d162e657-62c8-43d5-8955-056b89a6399c",
   "metadata": {},
   "outputs": [],
   "source": [
    "def parse_spike_muts(d):\n",
    "    \"\"\"Parse spike mutations from dict for a lineage.\"\"\"\n",
    "    return [\n",
    "        (mut.split(\":\")[1][0], int(mut.split(\":\")[1][1: -1]), mut.split(\":\")[1][-1])\n",
    "        for mut in d[\"aaSubstitutions\"] + d[\"aaDeletions\"]\n",
    "        if mut and mut.startswith(\"S:\")\n",
    "    ]\n",
    "\n",
    "lineages_d = {}\n",
    "for lineage, lineage_d in pango_lineages.items():\n",
    "    spike_muts = parse_spike_muts(lineage_d)\n",
    "    lineages_d[lineage] = {\n",
    "        \"date\": lineage_d[\"designationDate\"] if lineage_d[\"designationDate\"] else pd.NA,\n",
    "        \"parent\": lineage_d[\"parent\"] if lineage_d[\"parent\"] else pd.NA,\n",
    "        \"mutations\": [f\"{wt}{r}{m}\" for (wt, r, m) in spike_muts],\n",
    "        \"n_mutations\": len(spike_muts),\n",
    "    }\n",
    "\n",
    "lineages_df = (\n",
    "    pd.DataFrame.from_dict(lineages_d, orient=\"index\").reset_index(names=\"lineage\")\n",
    ")\n",
    "\n",
    "(\n",
    "    lineages_df\n",
    "    .assign(mutations=lambda x: x[\"mutations\"].map(\" \".join))\n",
    "    .to_csv(mutations_by_lineage_csv, index=False)\n",
    ")"
   ]
  },
  {
   "cell_type": "markdown",
   "id": "e9f20da9-4da6-4936-81fa-f58eefc49798",
   "metadata": {},
   "source": [
    "Check variant used in experiments has expected mutations (noting that lineage definitions lack insertions):"
   ]
  },
  {
   "cell_type": "code",
   "execution_count": null,
   "id": "ed11032b-a7db-479a-9a96-87ce271b9082",
   "metadata": {},
   "outputs": [],
   "source": [
    "print(f\"Checking that {variant_lineage=} used in experiments has expected mutations\")\n",
    "\n",
    "variant_mutations = pd.read_csv(variant_mutations_csv)\n",
    "\n",
    "mutations_from_lineage = lineages_d[variant_lineage][\"mutations\"]\n",
    "\n",
    "missing_from_variant = set(mutations_from_lineage) - set(variant_mutations[\"mutation\"])\n",
    "if missing_from_variant:\n",
    "    raise ValueError(\n",
    "        f\"Variant for experiment is missing mutations {missing_from_variant=}\"\n",
    "    )\n",
    "else:\n",
    "    print(\"Variant for experiment has all the expected mutations\")    \n",
    "\n",
    "extra_in_variant = variant_mutations.query(\"mutation not in @mutations_from_lineage\")\n",
    "\n",
    "if len(extra_in_variant):\n",
    "    print(\"Variant for experiment also has the following extra mutations:\")\n",
    "    display(extra_in_variant)\n",
    "    if (extra_in_variant[\"mutation_type\"] == \"insertion\").all():\n",
    "        print(\"Extra mutations are insertions; OK as not annotated in Pango definitions\")\n",
    "    else:\n",
    "        raise ValueError(f\"extra non-insertion mutations:\\n{extra_in_variant}\")\n",
    "else:\n",
    "    print(\"Variant in experiment has no extra mutations\")"
   ]
  },
  {
   "cell_type": "markdown",
   "id": "f46df3b1-c55b-44c2-bd67-fb2aa0c03f52",
   "metadata": {},
   "source": [
    "Get all amino-acid identities in any Pango lineage that differ from the variant used in the experiments:"
   ]
  },
  {
   "cell_type": "code",
   "execution_count": null,
   "id": "126d71a6-29b4-4efd-b743-4cda36c42b89",
   "metadata": {},
   "outputs": [],
   "source": [
    "mutations_all = (\n",
    "    lineages_df\n",
    "    .explode(\"mutations\")\n",
    "    [[\"mutations\"]]\n",
    "    .query(\"mutations.notnull()\")\n",
    "    .drop_duplicates()\n",
    "    .assign(\n",
    "        reference_aa=lambda x: x[\"mutations\"].str[0],\n",
    "        reference_site=lambda x: x[\"mutations\"].str[1: -1].astype(int),\n",
    "        mutant=lambda x: x[\"mutations\"].str[-1],\n",
    "    )\n",
    "    .drop(columns=\"mutations\")\n",
    "    .merge(\n",
    "        (\n",
    "            variant_mutations\n",
    "            .query(\"mutation_type != 'insertion'\")\n",
    "            .assign(\n",
    "                reference_site=lambda x: x[\"mutation\"].str[1: -1].astype(int),\n",
    "                variant_aa=lambda x: x[\"mutation\"].str[-1],\n",
    "            )\n",
    "            [[\"reference_site\", \"variant_aa\"]]\n",
    "        ),\n",
    "        how=\"left\",\n",
    "        validate=\"many_to_one\",\n",
    "        on=\"reference_site\",\n",
    "    )\n",
    "    .query(\"variant_aa != '-'\")\n",
    "    .assign(\n",
    "        variant_aa=lambda x: x[\"variant_aa\"].where(\n",
    "            x[\"variant_aa\"].notnull(), x[\"reference_aa\"]\n",
    "        ),\n",
    "        site=lambda x: x[\"reference_site\"].astype(str),\n",
    "        mutant_aa=lambda x: x[\"mutant\"].where(\n",
    "            x[\"mutant\"] != x[\"variant_aa\"],\n",
    "            x[\"reference_aa\"],\n",
    "        )\n",
    "    )\n",
    "    [[\"reference_site\", \"reference_aa\", \"variant_aa\", \"mutant_aa\"]]\n",
    "    .drop_duplicates()\n",
    "    .sort_values([\"reference_site\", \"mutant_aa\"])\n",
    ")\n",
    "\n",
    "assert (mutations_all[\"variant_aa\"] != mutations_all[\"mutant_aa\"]).all()\n",
    "\n",
    "print(f\"Found {len(mutations_all)} unique mutations in Pango lineages\")\n",
    "\n",
    "mutations_all.to_csv(mutations_all_csv, index=False)"
   ]
  },
  {
   "cell_type": "code",
   "execution_count": null,
   "id": "19505974-ddcd-48fc-9e79-be6ea1ffeb5a",
   "metadata": {},
   "outputs": [],
   "source": []
  }
 ],
 "metadata": {
  "kernelspec": {
   "display_name": "Python 3 (ipykernel)",
   "language": "python",
   "name": "python3"
  },
  "language_info": {
   "codemirror_mode": {
    "name": "ipython",
    "version": 3
   },
   "file_extension": ".py",
   "mimetype": "text/x-python",
   "name": "python",
   "nbconvert_exporter": "python",
   "pygments_lexer": "ipython3",
   "version": "3.12.5"
  }
 },
 "nbformat": 4,
 "nbformat_minor": 5
}
