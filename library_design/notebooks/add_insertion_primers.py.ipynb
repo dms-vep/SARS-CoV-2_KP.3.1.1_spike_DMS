{
 "cells": [
  {
   "cell_type": "markdown",
   "id": "52d21728-7af9-4851-9767-2dca8e9399a2",
   "metadata": {},
   "source": [
    "# Add insertion primers to oPools"
   ]
  },
  {
   "cell_type": "code",
   "execution_count": null,
   "id": "6d2ad618-b680-49b0-a8b5-1f6735006666",
   "metadata": {
    "tags": []
   },
   "outputs": [],
   "source": [
    "import os\n",
    "import pandas as pd\n",
    "\n",
    "import yaml"
   ]
  },
  {
   "cell_type": "code",
   "execution_count": null,
   "id": "e864f3e1-bc58-41e6-b367-737eb9af3426",
   "metadata": {
    "tags": []
   },
   "outputs": [],
   "source": [
    "if not os.path.isfile(\"config.yaml\"):\n",
    "    os.chdir(\"../\")  # if running interactively in a subdirectory\n",
    "    \n",
    "with open(\"config.yaml\") as f:\n",
    "    config = yaml.safe_load(f)"
   ]
  },
  {
   "cell_type": "code",
   "execution_count": null,
   "id": "c86cfcc7-6ff0-45ad-acb2-eb4ca32023ff",
   "metadata": {
    "tags": []
   },
   "outputs": [],
   "source": [
    "insertion_primers = config[\"insertion_primers\"]\n",
    "opools = config[\"opools\"]\n",
    "opools_with_insertion = config[\"opools_with_insertion\"]\n"
   ]
  },
  {
   "cell_type": "code",
   "execution_count": null,
   "id": "a5228e65-3513-41a0-86ac-a0fd94b3ef88",
   "metadata": {
    "tags": []
   },
   "outputs": [],
   "source": [
    "# Read the opools.csv file\n",
    "opools_df = pd.read_csv(opools)\n",
    "\n",
    "# Read the insertion_primers.csv file\n",
    "insertion_primers_df = pd.read_csv(insertion_primers)\n",
    "\n",
    "# Concatenate the two dataframes\n",
    "combined_df = pd.concat([opools_df, insertion_primers_df], ignore_index=True)\n",
    "\n",
    "# Save the concatenated dataframe to a new CSV file\n",
    "combined_df.to_csv(opools_with_insertion, index=False)"
   ]
  },
  {
   "cell_type": "code",
   "execution_count": null,
   "id": "ef5d81ad-abcb-4aa3-a4c7-a4dedce5a0df",
   "metadata": {},
   "outputs": [],
   "source": []
  }
 ],
 "metadata": {
  "kernelspec": {
   "display_name": "Python 3 (ipykernel)",
   "language": "python",
   "name": "python3"
  },
  "language_info": {
   "codemirror_mode": {
    "name": "ipython",
    "version": 3
   },
   "file_extension": ".py",
   "mimetype": "text/x-python",
   "name": "python",
   "nbconvert_exporter": "python",
   "pygments_lexer": "ipython3",
   "version": "3.10.8"
  }
 },
 "nbformat": 4,
 "nbformat_minor": 5
}
