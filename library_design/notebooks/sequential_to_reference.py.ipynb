{
 "cells": [
  {
   "cell_type": "markdown",
   "id": "480a542f-3407-41a2-bacd-d9cf6ae178e3",
   "metadata": {},
   "source": [
    "# Mapping of sequential to reference site numbers"
   ]
  },
  {
   "cell_type": "code",
   "execution_count": null,
   "id": "5ca4d3b5-2a81-4146-95de-635da283b842",
   "metadata": {},
   "outputs": [],
   "source": [
    "# get variables from `snakemake`\n",
    "ref_fasta = snakemake.input.ref\n",
    "variant_fasta = snakemake.input.variant\n",
    "mutations_csv = snakemake.output.mutations\n",
    "numbering_csv = snakemake.output.numbering"
   ]
  },
  {
   "cell_type": "code",
   "execution_count": null,
   "id": "43142925-0856-423c-a9fc-614625b227d7",
   "metadata": {
    "tags": []
   },
   "outputs": [],
   "source": [
    "import io\n",
    "import os\n",
    "import re\n",
    "import string\n",
    "import subprocess\n",
    "import tempfile\n",
    "\n",
    "import Bio.SeqIO\n",
    "\n",
    "import pandas as pd\n",
    "\n",
    "import yaml"
   ]
  },
  {
   "cell_type": "code",
   "execution_count": null,
   "id": "fb5f5c38-48ff-478c-8bc3-155480bc5789",
   "metadata": {
    "tags": []
   },
   "outputs": [],
   "source": [
    "ref = str(Bio.SeqIO.read(ref_fasta, \"fasta\").seq)\n",
    "\n",
    "seq = Bio.SeqIO.read(variant_fasta, \"fasta\").seq\n",
    "if len(seq) % 3 != 0:\n",
    "    raise ValueError(f\"{len(seq)=} not multiple of 3\")\n",
    "seq = str(seq.translate())\n",
    "if \"*\" == seq[-1]:\n",
    "    seq = seq[: -1]\n",
    "if \"*\" in seq:\n",
    "    raise ValueError(f\"premature stop codons in {seq=}\")"
   ]
  },
  {
   "cell_type": "code",
   "execution_count": null,
   "id": "dc71cb32-8ce5-45bd-afc5-a4a52b1f22a3",
   "metadata": {
    "tags": []
   },
   "outputs": [],
   "source": [
    "with tempfile.NamedTemporaryFile(\"w\") as f:\n",
    "    f.write(f\">sequence\\n{seq}\\n>reference\\n{ref}\\n\")\n",
    "    f.flush()\n",
    "    res = subprocess.run([\"mafft\", f.name], capture_output=True)\n",
    "    \n",
    "alignment = {\n",
    "    s.id: str(s.seq)\n",
    "    for s in Bio.SeqIO.parse(io.StringIO(res.stdout.decode(\"utf-8\")), \"fasta\")\n",
    "}"
   ]
  },
  {
   "cell_type": "code",
   "execution_count": null,
   "id": "7ca931b4-22cc-4f6b-89e3-e3d5db4e4a56",
   "metadata": {
    "tags": []
   },
   "outputs": [],
   "source": [
    "records = []\n",
    "deletions = []\n",
    "site = ref_site = ref_letter = 0\n",
    "for aa, ref_aa in zip(alignment[\"sequence\"], alignment[\"reference\"]):\n",
    "    if aa == \"-\":\n",
    "        assert ref_aa != \"-\"\n",
    "        ref_site += 1\n",
    "        ref_letter = 0\n",
    "        deletions.append(f\"{ref_aa}{ref_site}-\")\n",
    "    elif ref_aa == \"-\":\n",
    "        assert aa != \"-\"\n",
    "        site += 1\n",
    "        ref_letter += 1\n",
    "        assert ref_letter < len(string.ascii_lowercase)\n",
    "        letter = string.ascii_lowercase[ref_letter - 1]\n",
    "        records.append((site, f\"{ref_site}{letter}\", aa, ref_aa))\n",
    "    else:\n",
    "        site += 1\n",
    "        ref_site += 1\n",
    "        ref_letter = 0\n",
    "        records.append((site, ref_site, aa, ref_aa))\n",
    "        \n",
    "df = pd.DataFrame(\n",
    "    records, columns=[\"sequential_site\", \"reference_site\", \"aa\", \"reference_aa\"],\n",
    ")\n",
    "\n",
    "mutations = deletions + (\n",
    "    df\n",
    "    .query(\"aa != reference_aa\")\n",
    "    .assign(\n",
    "        mutation=lambda x: (\n",
    "            x[\"reference_aa\"]\n",
    "            + x[\"reference_site\"].astype(str)\n",
    "            + x[\"aa\"]\n",
    "        )\n",
    "    )\n",
    "    [\"mutation\"]\n",
    "    .tolist()\n",
    ")\n",
    "\n",
    "mutations_df = (\n",
    "    pd.DataFrame({\"mutation\": mutations})\n",
    "    .assign(\n",
    "        mutation_type=lambda x: x[\"mutation\"].map(\n",
    "            lambda m: (\n",
    "                \"deletion\" if m.endswith(\"-\")\n",
    "                else \"insertion\" if m.startswith(\"-\")\n",
    "                else \"substitution\"\n",
    "            )\n",
    "        )\n",
    "    )\n",
    "    .reset_index()\n",
    "    .sort_values([\"mutation_type\", \"index\"])\n",
    "    .drop(columns=\"index\")\n",
    ")\n",
    "\n",
    "print(\"Here are the number of mutations:\")\n",
    "display(\n",
    "    mutations_df.groupby(\"mutation_type\").aggregate(n=pd.NamedAgg(\"mutation\", \"count\"))\n",
    ")\n",
    "\n",
    "mutations_df.to_csv(mutations_csv, index=False)\n",
    "\n",
    "df.to_csv(numbering_csv, index=False)"
   ]
  },
  {
   "cell_type": "code",
   "execution_count": null,
   "id": "6fe5e01a-5402-4d12-a9ad-b0fddbad9e13",
   "metadata": {},
   "outputs": [],
   "source": []
  }
 ],
 "metadata": {
  "kernelspec": {
   "display_name": "Python 3 (ipykernel)",
   "language": "python",
   "name": "python3"
  },
  "language_info": {
   "codemirror_mode": {
    "name": "ipython",
    "version": 3
   },
   "file_extension": ".py",
   "mimetype": "text/x-python",
   "name": "python",
   "nbconvert_exporter": "python",
   "pygments_lexer": "ipython3",
   "version": "3.12.5"
  }
 },
 "nbformat": 4,
 "nbformat_minor": 5
}
