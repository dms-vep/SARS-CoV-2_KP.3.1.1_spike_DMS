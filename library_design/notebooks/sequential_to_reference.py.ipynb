{
 "cells": [
  {
   "cell_type": "markdown",
   "id": "480a542f-3407-41a2-bacd-d9cf6ae178e3",
   "metadata": {},
   "source": [
    "# Mapping of sequential to reference site numbers"
   ]
  },
  {
   "cell_type": "code",
   "execution_count": 1,
   "id": "43142925-0856-423c-a9fc-614625b227d7",
   "metadata": {
    "tags": []
   },
   "outputs": [],
   "source": [
    "import io\n",
    "import os\n",
    "import re\n",
    "import subprocess\n",
    "import tempfile\n",
    "\n",
    "import Bio.SeqIO\n",
    "\n",
    "import pandas as pd\n",
    "\n",
    "import yaml"
   ]
  },
  {
   "cell_type": "code",
   "execution_count": 2,
   "id": "c1d93e93-01b4-42f8-8edd-f4abd808bc86",
   "metadata": {
    "tags": []
   },
   "outputs": [],
   "source": [
    "if not os.path.isfile(\"config.yaml\"):\n",
    "    os.chdir(\"../\")  # if running interactively\n",
    "    \n",
    "with open(\"config.yaml\") as f:\n",
    "    config = yaml.safe_load(f)"
   ]
  },
  {
   "cell_type": "code",
   "execution_count": 3,
   "id": "fb5f5c38-48ff-478c-8bc3-155480bc5789",
   "metadata": {
    "tags": []
   },
   "outputs": [],
   "source": [
    "ref = str(Bio.SeqIO.read(config[\"reference_gene\"], \"fasta\").seq.translate(cds=True))\n",
    "\n",
    "# get upper case portion\n",
    "seq = Bio.SeqIO.read(config[\"extended_gene\"], \"fasta\").seq\n",
    "m = re.fullmatch(\"[acgt]*(?P<gene>[ACGT]+)[acgt]*\", str(seq))\n",
    "assert m, \"not single upper case gene\"\n",
    "seq = str(seq[m.start(\"gene\"): m.end(\"gene\")].translate())\n",
    "if \"*\" in seq[: -1]:\n",
    "    raise ValueError(f\"premature stop codons in {seq=}\")"
   ]
  },
  {
   "cell_type": "code",
   "execution_count": 4,
   "id": "dc71cb32-8ce5-45bd-afc5-a4a52b1f22a3",
   "metadata": {
    "tags": []
   },
   "outputs": [],
   "source": [
    "with tempfile.NamedTemporaryFile(\"w\") as f:\n",
    "    f.write(f\">sequence\\n{seq}\\n>reference\\n{ref}\\n\")\n",
    "    f.flush()\n",
    "    res = subprocess.run([\"mafft\", f.name], capture_output=True)\n",
    "    \n",
    "alignment = {\n",
    "    s.id: str(s.seq)\n",
    "    for s in Bio.SeqIO.parse(io.StringIO(res.stdout.decode(\"utf-8\")), \"fasta\")\n",
    "}"
   ]
  },
  {
   "cell_type": "code",
   "execution_count": 6,
   "id": "7ca931b4-22cc-4f6b-89e3-e3d5db4e4a56",
   "metadata": {
    "tags": []
   },
   "outputs": [
    {
     "ename": "AssertionError",
     "evalue": "",
     "output_type": "error",
     "traceback": [
      "\u001b[0;31m---------------------------------------------------------------------------\u001b[0m",
      "\u001b[0;31mAssertionError\u001b[0m                            Traceback (most recent call last)",
      "Cell \u001b[0;32mIn[6], line 6\u001b[0m\n\u001b[1;32m      4\u001b[0m site \u001b[38;5;241m=\u001b[39m ref_site \u001b[38;5;241m=\u001b[39m \u001b[38;5;241m0\u001b[39m\n\u001b[1;32m      5\u001b[0m \u001b[38;5;28;01mfor\u001b[39;00m aa, ref_aa \u001b[38;5;129;01min\u001b[39;00m \u001b[38;5;28mzip\u001b[39m(alignment[\u001b[38;5;124m\"\u001b[39m\u001b[38;5;124msequence\u001b[39m\u001b[38;5;124m\"\u001b[39m], alignment[\u001b[38;5;124m\"\u001b[39m\u001b[38;5;124mreference\u001b[39m\u001b[38;5;124m\"\u001b[39m]):\n\u001b[0;32m----> 6\u001b[0m     \u001b[38;5;28;01massert\u001b[39;00m ref_aa \u001b[38;5;241m!=\u001b[39m \u001b[38;5;124m\"\u001b[39m\u001b[38;5;124m-\u001b[39m\u001b[38;5;124m\"\u001b[39m\n\u001b[1;32m      7\u001b[0m     \u001b[38;5;28;01mif\u001b[39;00m aa \u001b[38;5;241m==\u001b[39m \u001b[38;5;124m\"\u001b[39m\u001b[38;5;124m-\u001b[39m\u001b[38;5;124m\"\u001b[39m:\n\u001b[1;32m      8\u001b[0m         ref_site \u001b[38;5;241m+\u001b[39m\u001b[38;5;241m=\u001b[39m \u001b[38;5;241m1\u001b[39m\n",
      "\u001b[0;31mAssertionError\u001b[0m: "
     ]
    }
   ],
   "source": [
    "assert \"-\" not in alignment[\"reference\"], \"cannot handle insertions in sequence\"\n",
    "\n",
    "records = []\n",
    "site = ref_site = 0\n",
    "for aa, ref_aa in zip(alignment[\"sequence\"], alignment[\"reference\"]):\n",
    "    assert ref_aa != \"-\"\n",
    "    if aa == \"-\":\n",
    "        ref_site += 1\n",
    "    else:\n",
    "        site += 1\n",
    "        ref_site += 1\n",
    "        records.append((site, ref_site, aa, ref_aa))\n",
    "        \n",
    "df = pd.DataFrame(\n",
    "    records, columns=[\"sequential_site\", \"reference_site\", \"aa\", \"reference_aa\"],\n",
    ")\n",
    "\n",
    "print(\"Here are mutated sites:\")\n",
    "display(df.query(\"aa != reference_aa\").reset_index(drop=True))\n",
    "\n",
    "df.to_csv(config[\"sequential_to_reference\"], index=False)"
   ]
  },
  {
   "cell_type": "code",
   "execution_count": 13,
   "id": "02d79a2a-16e8-482f-98ff-92443ea739ef",
   "metadata": {},
   "outputs": [
    {
     "name": "stdout",
     "output_type": "stream",
     "text": [
      "Here are mutated sites:\n"
     ]
    },
    {
     "data": {
      "text/html": [
       "<div>\n",
       "<style scoped>\n",
       "    .dataframe tbody tr th:only-of-type {\n",
       "        vertical-align: middle;\n",
       "    }\n",
       "\n",
       "    .dataframe tbody tr th {\n",
       "        vertical-align: top;\n",
       "    }\n",
       "\n",
       "    .dataframe thead th {\n",
       "        text-align: right;\n",
       "    }\n",
       "</style>\n",
       "<table border=\"1\" class=\"dataframe\">\n",
       "  <thead>\n",
       "    <tr style=\"text-align: right;\">\n",
       "      <th></th>\n",
       "      <th>sequential_site</th>\n",
       "      <th>reference_site</th>\n",
       "      <th>aa</th>\n",
       "      <th>reference_aa</th>\n",
       "    </tr>\n",
       "  </thead>\n",
       "  <tbody>\n",
       "    <tr>\n",
       "      <th>0</th>\n",
       "      <td>17</td>\n",
       "      <td>17</td>\n",
       "      <td>M</td>\n",
       "      <td>-</td>\n",
       "    </tr>\n",
       "    <tr>\n",
       "      <th>1</th>\n",
       "      <td>18</td>\n",
       "      <td>18</td>\n",
       "      <td>P</td>\n",
       "      <td>-</td>\n",
       "    </tr>\n",
       "    <tr>\n",
       "      <th>2</th>\n",
       "      <td>19</td>\n",
       "      <td>19</td>\n",
       "      <td>L</td>\n",
       "      <td>-</td>\n",
       "    </tr>\n",
       "    <tr>\n",
       "      <th>3</th>\n",
       "      <td>20</td>\n",
       "      <td>20</td>\n",
       "      <td>F</td>\n",
       "      <td>-</td>\n",
       "    </tr>\n",
       "    <tr>\n",
       "      <th>4</th>\n",
       "      <td>23</td>\n",
       "      <td>23</td>\n",
       "      <td>I</td>\n",
       "      <td>T</td>\n",
       "    </tr>\n",
       "    <tr>\n",
       "      <th>...</th>\n",
       "      <td>...</td>\n",
       "      <td>...</td>\n",
       "      <td>...</td>\n",
       "      <td>...</td>\n",
       "    </tr>\n",
       "    <tr>\n",
       "      <th>80</th>\n",
       "      <td>1248</td>\n",
       "      <td>1248q</td>\n",
       "      <td>-</td>\n",
       "      <td>K</td>\n",
       "    </tr>\n",
       "    <tr>\n",
       "      <th>81</th>\n",
       "      <td>1248</td>\n",
       "      <td>1248r</td>\n",
       "      <td>-</td>\n",
       "      <td>L</td>\n",
       "    </tr>\n",
       "    <tr>\n",
       "      <th>82</th>\n",
       "      <td>1248</td>\n",
       "      <td>1248s</td>\n",
       "      <td>-</td>\n",
       "      <td>H</td>\n",
       "    </tr>\n",
       "    <tr>\n",
       "      <th>83</th>\n",
       "      <td>1248</td>\n",
       "      <td>1248t</td>\n",
       "      <td>-</td>\n",
       "      <td>Y</td>\n",
       "    </tr>\n",
       "    <tr>\n",
       "      <th>84</th>\n",
       "      <td>1248</td>\n",
       "      <td>1248u</td>\n",
       "      <td>-</td>\n",
       "      <td>T</td>\n",
       "    </tr>\n",
       "  </tbody>\n",
       "</table>\n",
       "<p>85 rows × 4 columns</p>\n",
       "</div>"
      ],
      "text/plain": [
       "    sequential_site reference_site aa reference_aa\n",
       "0                17             17  M            -\n",
       "1                18             18  P            -\n",
       "2                19             19  L            -\n",
       "3                20             20  F            -\n",
       "4                23             23  I            T\n",
       "..              ...            ... ..          ...\n",
       "80             1248          1248q  -            K\n",
       "81             1248          1248r  -            L\n",
       "82             1248          1248s  -            H\n",
       "83             1248          1248t  -            Y\n",
       "84             1248          1248u  -            T\n",
       "\n",
       "[85 rows x 4 columns]"
      ]
     },
     "metadata": {},
     "output_type": "display_data"
    }
   ],
   "source": [
    "records = []\n",
    "site = ref_site = 0\n",
    "consecutive_dash_count = 0\n",
    "\n",
    "for aa, ref_aa in zip(alignment[\"sequence\"], alignment[\"reference\"]):\n",
    "    if aa == \"-\":\n",
    "        consecutive_dash_count += 1\n",
    "        ref_site_with_letter = f\"{ref_site}{chr(ord('a') + consecutive_dash_count - 1)}\"\n",
    "        records.append((site, ref_site_with_letter, aa, ref_aa))\n",
    "    else:\n",
    "        site += 1\n",
    "        ref_site += 1\n",
    "        consecutive_dash_count = 0  # Reset consecutive dash count\n",
    "        records.append((site, ref_site, aa, ref_aa))\n",
    "\n",
    "df = pd.DataFrame(\n",
    "    records, columns=[\"sequential_site\", \"reference_site\", \"aa\", \"reference_aa\"],\n",
    ")\n",
    "\n",
    "print(\"Here are mutated sites:\")\n",
    "display(df.query(\"aa != reference_aa\").reset_index(drop=True))\n",
    "\n",
    "df.to_csv(config[\"sequential_to_reference\"], index=False)"
   ]
  },
  {
   "cell_type": "code",
   "execution_count": 7,
   "id": "a0e16a64-8a8a-4fc3-879b-bb3deee62bd3",
   "metadata": {},
   "outputs": [
    {
     "data": {
      "text/plain": [
       "{'sequence': 'MFVFLVLLPLVSSQCVMPLFNLITTTQ---SYTNSFTRGVYYPDKVFRSSVLHLTQDLFLPFFSNVTWFHAI--SGTNGTKRFDNPVLPFNDGVYFASTEKSNIIRGWIFGTTLDSKTQSLLIVNNATNVFIKVCEFQFCNDPFLDV-YHKNNKSWMESESGVYSSANNCTFEYVSQPFLMDLEGKQGNFKNLREFVFKNIDGYFKIYSKHTPI-IGRDFPQGFSALEPLVDLPIGINITRFQTLLALNRSYLTPGDSSSGWTAGAADYYVGYLQPRTFLLKYNENGTITDAVDCALDPLSETKCTLKSFTVEKGIYQTSNFRVQPTESIVRFPNVTNLCPFHEVFNATRFASVYAWNRTRISNCVADYSVLYNFAPFFAFKCYGVSPTKLNDLCFTNVYADSFVIKGNEVSQIAPGQTGNIADYNYKLPDDFTGCVIAWNSNKLDSKHSGNYDYWYRSFRKSKLKPFERDISTEIYQAGNKPCKG-KGPNCYFPLQSYGFRPTYGVGHQPYRVVVLSFELLHAPATVCGPKKSTNLVKNKCVNFNFNGLTGTGVLTKSNKKFLPFQQFGRDIVDTTDAVRDPQTLEILDITPCSFGGVSVITPGTNTSNQVAVLYQGVNCTEVSVAIHADQLTPTWRVYSTGSNVFQTRAGCLIGAEYVNNSYECDIPIGAGICASYQTQTKSRRRARSVASQSIIAYTMSLGAENSVAYSNNSIAIPTNFTISVTTEILPVSMTKTSVDCTMYICGDSTECSNLLLQYGSFCTQLKRALTGIAVEQDKNTQEVFAQVKQIYKTPPIKYFGGFNFSQILPDPSKPSKRSFIEDLLFNKVTLADAGFIKQYGDCLGDIAARDLICAQKFNGLTVLPPLLTDEMIAQYTSALLAGTITSGWTFGAGAALQIPFAMQMAYRFNGIGVTQNVLYENQKLIANQFNSAIGKIQDSLFSTASALGKLQDVVNHNAQALNTLVKQLSSKFGAISSVLNDILSRLDKVEAEVQIDRLITGRLQSLQTYVTQQLIRAAEIRASANLAATKMSECVLGQSKRVDFCGKGYHLMSFPQSAPHGVVFLHVTYVPAQEKNFTTAPAICHDGKAHFPREGVFVSNGTHWFVTQRNFYEPQIITTDNTFVSGNCDVVIGIVNNTVYDPLQLELDSFKEELDKYFKNHTSPDVDLGDISGINASVVNIQKEIDRLNEVAKNLNESLIDLQELGKYEQYIKWPWYIWLGFIAGLIAIVMVTIMLCCMTSCCSCLKGCCSCGS---------------------',\n",
       " 'reference': 'MFVFLVLLPLVSSQCV----NLTTRTQLPPAYTNSFTRGVYYPDKVFRSSVLHSTQDLFLPFFSNVTWFHAIHVSGTNGTKRFDNPVLPFNDGVYFASTEKSNIIRGWIFGTTLDSKTQSLLIVNNATNVVIKVCEFQFCNDPFLGVYYHKNNKSWMESEFRVYSSANNCTFEYVSQPFLMDLEGKQGNFKNLREFVFKNIDGYFKIYSKHTPINLVRDLPQGFSALEPLVDLPIGINITRFQTLLALHRSYLTPGDSSSGWTAGAAAYYVGYLQPRTFLLKYNENGTITDAVDCALDPLSETKCTLKSFTVEKGIYQTSNFRVQPTESIVRFPNITNLCPFGEVFNATRFASVYAWNRKRISNCVADYSVLYNSASFSTFKCYGVSPTKLNDLCFTNVYADSFVIRGDEVRQIAPGQTGKIADYNYKLPDDFTGCVIAWNSNNLDSKVGGNYNYLYRLFRKSNLKPFERDISTEIYQAGSTPCNGVEGFNCYFPLQSYGFQPTNGVGYQPYRVVVLSFELLHAPATVCGPKKSTNLVKNKCVNFNFNGLTGTGVLTESNKKFLPFQQFGRDIADTTDAVRDPQTLEILDITPCSFGGVSVITPGTNTSNQVAVLYQDVNCTEVPVAIHADQLTPTWRVYSTGSNVFQTRAGCLIGAEHVNNSYECDIPIGAGICASYQTQTNSPRRARSVASQSIIAYTMSLGAENSVAYSNNSIAIPTNFTISVTTEILPVSMTKTSVDCTMYICGDSTECSNLLLQYGSFCTQLNRALTGIAVEQDKNTQEVFAQVKQIYKTPPIKDFGGFNFSQILPDPSKPSKRSFIEDLLFNKVTLADAGFIKQYGDCLGDIAARDLICAQKFNGLTVLPPLLTDEMIAQYTSALLAGTITSGWTFGAGAALQIPFAMQMAYRFNGIGVTQNVLYENQKLIANQFNSAIGKIQDSLSSTASALGKLQDVVNQNAQALNTLVKQLSSNFGAISSVLNDILSRLDKVEAEVQIDRLITGRLQSLQTYVTQQLIRAAEIRASANLAATKMSECVLGQSKRVDFCGKGYHLMSFPQSAPHGVVFLHVTYVPAQEKNFTTAPAICHDGKAHFPREGVFVSNGTHWFVTQRNFYEPQIITTDNTFVSGNCDVVIGIVNNTVYDPLQPELDSFKEELDKYFKNHTSPDVDLGDISGINASVVNIQKEIDRLNEVAKNLNESLIDLQELGKYEQYIKWPWYIWLGFIAGLIAIVMVTIMLCCMTSCCSCLKGCCSCGSCCKFDEDDSEPVLKGVKLHYT'}"
      ]
     },
     "execution_count": 7,
     "metadata": {},
     "output_type": "execute_result"
    }
   ],
   "source": [
    "alignment"
   ]
  },
  {
   "cell_type": "code",
   "execution_count": 11,
   "id": "3af3f88b-b647-47b0-8bf5-646b925dda0e",
   "metadata": {},
   "outputs": [
    {
     "name": "stdout",
     "output_type": "stream",
     "text": [
      "CSV file 'sequence_alignment.csv' has been created successfully.\n"
     ]
    }
   ],
   "source": [
    "import csv\n",
    "\n",
    "# Input sequences\n",
    "sequence = 'MFVFLVLLPLVSSQCVMPLFNLITTTQ---SYTNSFTRGVYYPDKVFRSSVLHLTQDLFLPFFSNVTWFHAI--SGTNGTKRFDNPVLPFNDGVYFASTEKSNIIRGWIFGTTLDSKTQSLLIVNNATNVFIKVCEFQFCNDPFLDV-YHKNNKSWMESESGVYSSANNCTFEYVSQPFLMDLEGKQGNFKNLREFVFKNIDGYFKIYSKHTPI-IGRDFPQGFSALEPLVDLPIGINITRFQTLLALNRSYLTPGDSSSGWTAGAADYYVGYLQPRTFLLKYNENGTITDAVDCALDPLSETKCTLKSFTVEKGIYQTSNFRVQPTESIVRFPNVTNLCPFHEVFNATRFASVYAWNRTRISNCVADYSVLYNFAPFFAFKCYGVSPTKLNDLCFTNVYADSFVIKGNEVSQIAPGQTGNIADYNYKLPDDFTGCVIAWNSNKLDSKHSGNYDYWYRSFRKSKLKPFERDISTEIYQAGNKPCKG-KGPNCYFPLQSYGFRPTYGVGHQPYRVVVLSFELLHAPATVCGPKKSTNLVKNKCVNFNFNGLTGTGVLTKSNKKFLPFQQFGRDIVDTTDAVRDPQTLEILDITPCSFGGVSVITPGTNTSNQVAVLYQGVNCTEVSVAIHADQLTPTWRVYSTGSNVFQTRAGCLIGAEYVNNSYECDIPIGAGICASYQTQTKSRRRARSVASQSIIAYTMSLGAENSVAYSNNSIAIPTNFTISVTTEILPVSMTKTSVDCTMYICGDSTECSNLLLQYGSFCTQLKRALTGIAVEQDKNTQEVFAQVKQIYKTPPIKYFGGFNFSQILPDPSKPSKRSFIEDLLFNKVTLADAGFIKQYGDCLGDIAARDLICAQKFNGLTVLPPLLTDEMIAQYTSALLAGTITSGWTFGAGAALQIPFAMQMAYRFNGIGVTQNVLYENQKLIANQFNSAIGKIQDSLFSTASALGKLQDVVNHNAQALNTLVKQLSSKFGAISSVLNDILSRLDKVEAEVQIDRLITGRLQSLQTYVTQQLIRAAEIRASANLAATKMSECVLGQSKRVDFCGKGYHLMSFPQSAPHGVVFLHVTYVPAQEKNFTTAPAICHDGKAHFPREGVFVSNGTHWFVTQRNFYEPQIITTDNTFVSGNCDVVIGIVNNTVYDPLQLELDSFKEELDKYFKNHTSPDVDLGDISGINASVVNIQKEIDRLNEVAKNLNESLIDLQELGKYEQYIKWPWYIWLGFIAGLIAIVMVTIMLCCMTSCCSCLKGCCSCGS---------------------'\n",
    "reference = 'MFVFLVLLPLVSSQCV----NLTTRTQLPPAYTNSFTRGVYYPDKVFRSSVLHSTQDLFLPFFSNVTWFHAIHVSGTNGTKRFDNPVLPFNDGVYFASTEKSNIIRGWIFGTTLDSKTQSLLIVNNATNVVIKVCEFQFCNDPFLGVYYHKNNKSWMESEFRVYSSANNCTFEYVSQPFLMDLEGKQGNFKNLREFVFKNIDGYFKIYSKHTPINLVRDLPQGFSALEPLVDLPIGINITRFQTLLALHRSYLTPGDSSSGWTAGAAAYYVGYLQPRTFLLKYNENGTITDAVDCALDPLSETKCTLKSFTVEKGIYQTSNFRVQPTESIVRFPNITNLCPFGEVFNATRFASVYAWNRKRISNCVADYSVLYNSASFSTFKCYGVSPTKLNDLCFTNVYADSFVIRGDEVRQIAPGQTGKIADYNYKLPDDFTGCVIAWNSNNLDSKVGGNYNYLYRLFRKSNLKPFERDISTEIYQAGSTPCNGVEGFNCYFPLQSYGFQPTNGVGYQPYRVVVLSFELLHAPATVCGPKKSTNLVKNKCVNFNFNGLTGTGVLTESNKKFLPFQQFGRDIADTTDAVRDPQTLEILDITPCSFGGVSVITPGTNTSNQVAVLYQDVNCTEVPVAIHADQLTPTWRVYSTGSNVFQTRAGCLIGAEHVNNSYECDIPIGAGICASYQTQTNSPRRARSVASQSIIAYTMSLGAENSVAYSNNSIAIPTNFTISVTTEILPVSMTKTSVDCTMYICGDSTECSNLLLQYGSFCTQLNRALTGIAVEQDKNTQEVFAQVKQIYKTPPIKDFGGFNFSQILPDPSKPSKRSFIEDLLFNKVTLADAGFIKQYGDCLGDIAARDLICAQKFNGLTVLPPLLTDEMIAQYTSALLAGTITSGWTFGAGAALQIPFAMQMAYRFNGIGVTQNVLYENQKLIANQFNSAIGKIQDSLSSTASALGKLQDVVNQNAQALNTLVKQLSSNFGAISSVLNDILSRLDKVEAEVQIDRLITGRLQSLQTYVTQQLIRAAEIRASANLAATKMSECVLGQSKRVDFCGKGYHLMSFPQSAPHGVVFLHVTYVPAQEKNFTTAPAICHDGKAHFPREGVFVSNGTHWFVTQRNFYEPQIITTDNTFVSGNCDVVIGIVNNTVYDPLQPELDSFKEELDKYFKNHTSPDVDLGDISGINASVVNIQKEIDRLNEVAKNLNESLIDLQELGKYEQYIKWPWYIWLGFIAGLIAIVMVTIMLCCMTSCCSCLKGCCSCGSCCKFDEDDSEPVLKGVKLHYT'\n",
    "\n",
    "# Initialize lists to store data\n",
    "sequential_site = []\n",
    "reference_site = []\n",
    "aa = []\n",
    "reference_aa = []\n",
    "\n",
    "# Initialize counters for sequential numbering and reference numbering\n",
    "sequential_number = 1\n",
    "reference_number = 1\n",
    "consecutive_dash_count = 0  # Track consecutive dashes\n",
    "\n",
    "# Iterate through the sequences\n",
    "for s, r in zip(sequence, reference):\n",
    "    # Skip '-' characters in both sequences\n",
    "    if s != '-':\n",
    "        # Append sequential site and amino acid\n",
    "        sequential_site.append(sequential_number)\n",
    "        aa.append(s)\n",
    "        sequential_number += 1\n",
    "        consecutive_dash_count = 0  # Reset consecutive dash count\n",
    "    if r != '-':\n",
    "        # Append reference site and reference amino acid\n",
    "        reference_site.append(reference_number)\n",
    "        reference_aa.append(r)\n",
    "        reference_number += 1\n",
    "        consecutive_dash_count = 0  # Reset consecutive dash count\n",
    "    elif r == '-':\n",
    "        # Append reference site with sequential alphabetical letter\n",
    "        consecutive_dash_count += 1\n",
    "        reference_site.append(f'{reference_number - consecutive_dash_count}{chr(ord(\"a\") + consecutive_dash_count - 1)}')\n",
    "\n",
    "# Create a list of dictionaries for CSV writing\n",
    "data = [\n",
    "    {\n",
    "        \"sequential_site\": seq_site,\n",
    "        \"reference_site\": ref_site,\n",
    "        \"aa\": amino_acid,\n",
    "        \"reference_aa\": ref_amino_acid\n",
    "    }\n",
    "    for seq_site, ref_site, amino_acid, ref_amino_acid in zip(sequential_site, reference_site, aa, reference_aa)\n",
    "]\n",
    "\n",
    "# Write the data to a CSV file\n",
    "csv_filename = \"sequence_alignment.csv\"\n",
    "with open(csv_filename, mode='w', newline='') as csv_file:\n",
    "    fieldnames = [\"sequential_site\", \"reference_site\", \"aa\", \"reference_aa\"]\n",
    "    writer = csv.DictWriter(csv_file, fieldnames=fieldnames)\n",
    "\n",
    "    # Write the header\n",
    "    writer.writeheader()\n",
    "\n",
    "    # Write the data\n",
    "    writer.writerows(data)\n",
    "\n",
    "print(f\"CSV file '{csv_filename}' has been created successfully.\")\n"
   ]
  },
  {
   "cell_type": "code",
   "execution_count": null,
   "id": "a05a8ead-0eac-4f34-84b1-b2f5e2f66959",
   "metadata": {},
   "outputs": [],
   "source": []
  }
 ],
 "metadata": {
  "kernelspec": {
   "display_name": "Python 3 (ipykernel)",
   "language": "python",
   "name": "python3"
  },
  "language_info": {
   "codemirror_mode": {
    "name": "ipython",
    "version": 3
   },
   "file_extension": ".py",
   "mimetype": "text/x-python",
   "name": "python",
   "nbconvert_exporter": "python",
   "pygments_lexer": "ipython3",
   "version": "3.10.8"
  }
 },
 "nbformat": 4,
 "nbformat_minor": 5
}
