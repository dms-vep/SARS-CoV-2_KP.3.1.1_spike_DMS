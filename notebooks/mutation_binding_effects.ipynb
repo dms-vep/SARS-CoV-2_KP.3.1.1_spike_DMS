{
 "cells": [
  {
   "cell_type": "code",
   "execution_count": null,
   "id": "3c748ad2-3bed-406c-8dcd-8ad1b1c3d796",
   "metadata": {
    "editable": true,
    "slideshow": {
     "slide_type": ""
    },
    "tags": [
     "parameters"
    ]
   },
   "outputs": [],
   "source": [
    "# this cell is tagged as `parameters` for papermill parameterization\n",
    "binding_effects_csv = None\n",
    "site_numbering_map_csv = None\n",
    "entry_effects_csv = None\n",
    "init_min_times_seen = None\n",
    "init_min_n_libraries = None\n",
    "init_binding_std = None\n",
    "\n",
    "library_binding_corr = None\n",
    "distance_library_binding_corr = None"
   ]
  },
  {
   "cell_type": "code",
   "execution_count": null,
   "id": "5e4c4790-05b9-482e-ad36-53f64148670d",
   "metadata": {
    "editable": true,
    "slideshow": {
     "slide_type": ""
    },
    "tags": []
   },
   "outputs": [],
   "source": [
    "import functools\n",
    "import itertools\n",
    "import tempfile\n",
    "import urllib.request\n",
    "import math\n",
    "import operator\n",
    "import os\n",
    "\n",
    "import altair as alt\n",
    "\n",
    "import numpy\n",
    "\n",
    "import pandas as pd\n",
    "import polyclonal.pdb_utils\n",
    "\n",
    "_ = alt.data_transformers.disable_max_rows()"
   ]
  },
  {
   "cell_type": "code",
   "execution_count": null,
   "id": "0940b3d4-9771-4a29-b0bd-12ad154db181",
   "metadata": {
    "editable": true,
    "slideshow": {
     "slide_type": ""
    },
    "tags": []
   },
   "outputs": [],
   "source": [
    "entry_effects = pd.read_csv(entry_effects_csv).drop('times_seen', axis=1)"
   ]
  },
  {
   "cell_type": "code",
   "execution_count": null,
   "id": "8d778cdd-619f-4bc6-8d5f-18d1c6dc0d55",
   "metadata": {
    "editable": true,
    "slideshow": {
     "slide_type": ""
    },
    "tags": []
   },
   "outputs": [],
   "source": [
    "binding_effects = pd.read_csv(binding_effects_csv)"
   ]
  },
  {
   "cell_type": "code",
   "execution_count": null,
   "id": "ae1dbb5d-50c9-4e74-8802-de38826af673",
   "metadata": {
    "editable": true,
    "slideshow": {
     "slide_type": ""
    },
    "tags": []
   },
   "outputs": [],
   "source": [
    "site_numbering_map = pd.read_csv(site_numbering_map_csv)"
   ]
  },
  {
   "cell_type": "code",
   "execution_count": null,
   "id": "e126f110-12e1-420d-b421-8c76944e3dbd",
   "metadata": {
    "editable": true,
    "slideshow": {
     "slide_type": ""
    },
    "tags": []
   },
   "outputs": [],
   "source": [
    "# Merge on reference_site\n",
    "merged = binding_effects.merge(site_numbering_map, left_on='site', right_on='reference_site', how=\"left\")\n",
    "\n",
    "merged[\"Lib_binding_std\"] = merged[\n",
    "    [\"Lib1-250517-monomeric_ACE2\", \"Lib2-250517-monomeric_ACE2\"]\n",
    "].std(axis=1)\n",
    "\n",
    "merged.head()"
   ]
  },
  {
   "cell_type": "code",
   "execution_count": null,
   "id": "30344d08-a05c-48c0-b490-98e11ceea81f",
   "metadata": {
    "editable": true,
    "slideshow": {
     "slide_type": ""
    },
    "tags": []
   },
   "outputs": [],
   "source": [
    "merged = merged.merge(entry_effects, on=['site','wildtype','mutant'],  how=\"left\")"
   ]
  },
  {
   "cell_type": "code",
   "execution_count": null,
   "id": "19f553f3-2bdc-455a-a1cd-ab501929dcf0",
   "metadata": {
    "editable": true,
    "slideshow": {
     "slide_type": ""
    },
    "tags": []
   },
   "outputs": [],
   "source": [
    "mut_selection = alt.selection_point(fields=[\"mutation\"], on=\"mouseover\", empty=False)\n",
    "\n",
    "times_seen_slider = alt.param(\n",
    "    value=init_min_times_seen,\n",
    "    bind=alt.binding_range(\n",
    "        name=\"minimum times seen\",\n",
    "        min=1,\n",
    "        step=0.5,\n",
    "        max=min(10, merged[\"times_seen\"].max()),\n",
    "    ),\n",
    ")\n",
    "\n",
    "n_libraries_slider = alt.param(\n",
    "    value=init_min_n_libraries,\n",
    "    bind=alt.binding_range(\n",
    "        name=\"minimum number of libraries\",\n",
    "        min=1,\n",
    "        step=1,\n",
    "        max=merged[\"n_models\"].max(),\n",
    "    ),\n",
    ")\n",
    "\n",
    "lib_std_slider = alt.param(\n",
    "    value=init_binding_std,\n",
    "    bind=alt.binding_range(\n",
    "        name=\"maximum standard deviation between libraries\",\n",
    "        min=0,\n",
    "        max=merged[\"Lib_binding_std\"].max(),\n",
    "        step=0.05,\n",
    "    ),\n",
    ")\n",
    "\n",
    "corr_base = (\n",
    "    alt.Chart(merged)\n",
    "    .transform_filter(alt.datum[\"times_seen\"] >= times_seen_slider)\n",
    "    .transform_filter(alt.datum[\"n_models\"] >= n_libraries_slider)\n",
    "    .transform_filter(alt.datum[\"Lib_binding_std\"] <= lib_std_slider)\n",
    "    .encode(\n",
    "        x=alt.X(\n",
    "            \"Lib1-250517-monomeric_ACE2\",\n",
    "            title=\"Lib-1 ACE2 binding\",\n",
    "            scale=alt.Scale(nice=False, padding=4),\n",
    "        ),\n",
    "        y=alt.Y(\n",
    "            \"Lib2-250517-monomeric_ACE2\",\n",
    "            title=\"Lib-2 ACE2 binding\",\n",
    "            scale=alt.Scale(nice=False, padding=4),\n",
    "        ),\n",
    "        tooltip=merged.columns.tolist(),\n",
    "    )\n",
    "    .add_params(\n",
    "        times_seen_slider,\n",
    "        n_libraries_slider,\n",
    "        lib_std_slider,\n",
    "        mut_selection,\n",
    "    )\n",
    "    .properties(width=170, height=170)\n",
    ")\n",
    "\n",
    "\n",
    "corr_scatter = (\n",
    "    corr_base\n",
    "    .encode(\n",
    "        opacity=alt.condition(mut_selection, alt.value(1), alt.value(0.1)),\n",
    "        strokeWidth=alt.condition(mut_selection, alt.value(2), alt.value(0)),\n",
    "        size=alt.condition(mut_selection, alt.value(50), alt.value(25)),\n",
    "    )\n",
    "    .mark_circle(color=\"black\", stroke=\"red\")\n",
    ")\n",
    "\n",
    "corr_r = (\n",
    "    corr_base\n",
    "    .transform_regression(\"Lib1-250517-monomeric_ACE2\", \"Lib2-250517-monomeric_ACE2\", params=True)\n",
    "    .transform_calculate(\n",
    "        r=alt.expr.if_(\n",
    "            alt.datum[\"coef\"][1] > 0,\n",
    "            alt.expr.sqrt(alt.datum[\"rSquared\"]),\n",
    "            -alt.expr.sqrt(alt.datum[\"rSquared\"]),\n",
    "        ),\n",
    "        r_text=\"r = \" + alt.expr.format(alt.datum[\"r\"], \".2f\"),\n",
    "    )\n",
    "    .encode(\n",
    "        text=\"r_text:N\",\n",
    "        x=alt.value(5),\n",
    "        y=alt.value(10),\n",
    "    )\n",
    "    .mark_text(size=14, align=\"left\", color=\"blue\")\n",
    ")\n",
    "\n",
    "corr_chart = (corr_scatter + corr_r).configure_axis(grid=False)\n",
    "\n",
    "print(f\"Saving to {library_binding_corr}\")\n",
    "corr_chart.save(library_binding_corr)\n",
    "\n",
    "corr_chart"
   ]
  },
  {
   "cell_type": "code",
   "execution_count": null,
   "id": "e9bf18bd-059d-4a5a-8171-c26b5c9b0860",
   "metadata": {
    "editable": true,
    "slideshow": {
     "slide_type": ""
    },
    "tags": []
   },
   "outputs": [],
   "source": [
    "# make some tweaks to merged binding for plotting\n",
    "merged_binding = (\n",
    "    merged\n",
    "    .assign(\n",
    "        region=lambda x: x[\"region\"].map(lambda r: \"RBD\" if r == \"RBD\" else \"not RBD\")\n",
    "    )\n",
    ")"
   ]
  },
  {
   "cell_type": "code",
   "execution_count": null,
   "id": "b78acc49-c685-4a29-9e6b-83153fe28f7a",
   "metadata": {
    "editable": true,
    "slideshow": {
     "slide_type": ""
    },
    "tags": []
   },
   "outputs": [],
   "source": [
    "# Add distance to ACE2\n",
    "ace2_proximal_cutoff = 15  # classify as ACE2 proximal if CA distance <= this\n",
    "\n",
    "# chain A is ACE2, chain E is RBD\n",
    "with tempfile.NamedTemporaryFile() as f:\n",
    "    urllib.request.urlretrieve(\n",
    "        \"https://files.rcsb.org/download/6M0J.pdb\",\n",
    "        f.name,\n",
    "    )\n",
    "    coords_df = polyclonal.pdb_utils.extract_atom_locations(f.name, [\"A\", \"E\"], target_atom=\"CA\")\n",
    "\n",
    "# get closest distance for each residue in chain E (RBD) to residue in chain A (ACE2)\n",
    "dist_df = (\n",
    "    coords_df\n",
    "    .query(\"chain == 'E'\")\n",
    "    [[\"site\", \"x\", \"y\", \"z\"]]\n",
    "    .merge(\n",
    "        (\n",
    "            coords_df\n",
    "            .query(\"chain == 'A'\")\n",
    "            [[\"site\", \"x\", \"y\", \"z\"]]\n",
    "            .rename(columns={c: f\"ACE2_{c}\" for c in [\"site\", \"x\", \"y\", \"z\"]})\n",
    "        ),\n",
    "        how=\"cross\",\n",
    "    )\n",
    "    .assign(\n",
    "        distance=lambda x: x.apply(\n",
    "            lambda r: math.sqrt(sum((r[c] - r[f\"ACE2_{c}\"])**2 for c in [\"x\", \"y\", \"z\"])),\n",
    "            axis=1,\n",
    "        )\n",
    "    )\n",
    "    .groupby(\"site\", as_index=False)\n",
    "    .aggregate({\"distance\": \"min\"})\n",
    ")"
   ]
  },
  {
   "cell_type": "code",
   "execution_count": null,
   "id": "1f6b0ebf-8b81-42a3-8f25-e7ba3efe14ff",
   "metadata": {
    "editable": true,
    "slideshow": {
     "slide_type": ""
    },
    "tags": []
   },
   "outputs": [],
   "source": [
    "merged_binding = merged_binding[merged_binding[\"site\"].apply(lambda x: str(x).isdigit())].copy()\n",
    "merged_binding[\"site\"] = merged_binding[\"site\"].astype(int)"
   ]
  },
  {
   "cell_type": "code",
   "execution_count": null,
   "id": "b0d76e05-6eb5-4374-99ff-848bb66f27d0",
   "metadata": {
    "editable": true,
    "slideshow": {
     "slide_type": ""
    },
    "tags": []
   },
   "outputs": [],
   "source": [
    "merged_binding = (\n",
    "    merged_binding\n",
    "    .merge(dist_df, how=\"left\", validate=\"many_to_one\")\n",
    "    .assign(\n",
    "        ACE2_distance=lambda x: numpy.where(\n",
    "            (x[\"region\"] == \"RBD\") & (x[\"distance\"] <= ace2_proximal_cutoff),\n",
    "            \"RBD ACE2 proximal\",\n",
    "            numpy.where(x[\"region\"] == \"RBD\", \"RBD ACE2 distal\", \"non-RBD\"),\n",
    "        ),\n",
    "    )\n",
    ")"
   ]
  },
  {
   "cell_type": "code",
   "execution_count": null,
   "id": "909afbcc-65ee-48e8-acd3-4a4409ea32cb",
   "metadata": {
    "editable": true,
    "slideshow": {
     "slide_type": ""
    },
    "tags": []
   },
   "outputs": [],
   "source": [
    "mut_selection = alt.selection_point(fields=[\"mutation\"], on=\"mouseover\", empty=False)\n",
    "\n",
    "times_seen_slider = alt.param(\n",
    "    value=init_min_times_seen,\n",
    "    bind=alt.binding_range(\n",
    "        name=\"minimum times seen\",\n",
    "        min=1,\n",
    "        step=0.5,\n",
    "        max=min(10, merged_binding[\"times_seen\"].max()),\n",
    "    ),\n",
    ")\n",
    "\n",
    "n_libraries_slider = alt.param(\n",
    "    value=init_min_n_libraries,\n",
    "    bind=alt.binding_range(\n",
    "        name=\"minimum number of libraries\",\n",
    "        min=1,\n",
    "        step=1,\n",
    "        max=merged_binding[\"n_models\"].max(),\n",
    "    ),\n",
    ")\n",
    "\n",
    "lib_std_slider = alt.param(\n",
    "    value=1.5,\n",
    "    bind=alt.binding_range(\n",
    "        name=\"maximum standard deviation between libraries\",\n",
    "        min=0,\n",
    "        max=merged_binding[\"Lib_binding_std\"].max(),\n",
    "        step=0.05,\n",
    "    ),\n",
    ")\n",
    "\n",
    "corr_base = (\n",
    "    alt.Chart(merged_binding)\n",
    "    .transform_filter(alt.datum[\"times_seen\"] >= times_seen_slider)\n",
    "    .transform_filter(alt.datum[\"n_models\"] >= n_libraries_slider)\n",
    "    .transform_filter(alt.datum[\"Lib_binding_std\"] <= lib_std_slider)\n",
    "    .encode(\n",
    "        x=alt.X(\n",
    "            \"Lib1-250517-monomeric_ACE2\",\n",
    "            title=\"Lib-1 ACE2 binding\",\n",
    "            scale=alt.Scale(nice=False, padding=4),\n",
    "        ),\n",
    "        y=alt.Y(\n",
    "            \"Lib2-250517-monomeric_ACE2\",\n",
    "            title=\"Lib-2 ACE2 binding\",\n",
    "            scale=alt.Scale(nice=False, padding=4),\n",
    "        ),\n",
    "        tooltip=merged_binding.columns.tolist(),\n",
    "    )\n",
    "    .add_params(\n",
    "        times_seen_slider,\n",
    "        n_libraries_slider,\n",
    "        lib_std_slider,\n",
    "        mut_selection,\n",
    "    )\n",
    "    .properties(width=170, height=170)\n",
    ")\n",
    "\n",
    "\n",
    "corr_scatter = (\n",
    "    corr_base\n",
    "    .encode(\n",
    "        color=alt.Color(\"ACE2_distance:N\", title=\"ACE2 distance\"),\n",
    "        opacity=alt.condition(mut_selection, alt.value(1), alt.value(0.5)),\n",
    "        strokeWidth=alt.condition(mut_selection, alt.value(2), alt.value(0)),\n",
    "        size=alt.condition(mut_selection, alt.value(50), alt.value(25)),\n",
    "    )\n",
    "    .mark_circle()  # Remove fixed color so 'color' encoding takes effect\n",
    ")\n",
    "\n",
    "corr_r = (\n",
    "    corr_base\n",
    "    .transform_regression(\"Lib1-250517-monomeric_ACE2\", \"Lib2-250517-monomeric_ACE2\", params=True)\n",
    "    .transform_calculate(\n",
    "        r=alt.expr.if_(\n",
    "            alt.datum[\"coef\"][1] > 0,\n",
    "            alt.expr.sqrt(alt.datum[\"rSquared\"]),\n",
    "            -alt.expr.sqrt(alt.datum[\"rSquared\"]),\n",
    "        ),\n",
    "        r_text=\"r = \" + alt.expr.format(alt.datum[\"r\"], \".2f\"),\n",
    "    )\n",
    "    .encode(\n",
    "        text=\"r_text:N\",\n",
    "        x=alt.value(5),\n",
    "        y=alt.value(10),\n",
    "    )\n",
    "    .mark_text(size=14, align=\"left\", color=\"blue\")\n",
    ")\n",
    "\n",
    "corr_chart = (corr_scatter + corr_r).configure_axis(grid=False)\n",
    "corr_chart"
   ]
  },
  {
   "cell_type": "code",
   "execution_count": null,
   "id": "04d7b5bb-a1d8-4259-acf8-c2698640ab82",
   "metadata": {
    "editable": true,
    "slideshow": {
     "slide_type": ""
    },
    "tags": []
   },
   "outputs": [],
   "source": [
    "mut_selection = alt.selection_point(fields=[\"mutation\"], on=\"mouseover\", empty=False)\n",
    "\n",
    "times_seen_slider = alt.param(\n",
    "    value=init_min_times_seen,\n",
    "    bind=alt.binding_range(\n",
    "        name=\"minimum times seen\",\n",
    "        min=1,\n",
    "        step=0.5,\n",
    "        max=min(10, merged_binding[\"times_seen\"].max()),\n",
    "    ),\n",
    ")\n",
    "\n",
    "n_libraries_slider = alt.param(\n",
    "    value=init_min_n_libraries,\n",
    "    bind=alt.binding_range(\n",
    "        name=\"minimum number of libraries\",\n",
    "        min=1,\n",
    "        step=1,\n",
    "        max=merged_binding[\"n_models\"].max(),\n",
    "    ),\n",
    ")\n",
    "\n",
    "lib_std_slider = alt.param(\n",
    "    value=init_binding_std,\n",
    "    bind=alt.binding_range(\n",
    "        name=\"maximum standard deviation between libraries\",\n",
    "        min=0,\n",
    "        max=merged_binding[\"Lib_binding_std\"].max(),\n",
    "        step=0.05,\n",
    "    ),\n",
    ")\n",
    "\n",
    "effect_slider = alt.param(\n",
    "    value=-2,\n",
    "    bind=alt.binding_range(\n",
    "        name=\"cell entry effect\",\n",
    "        min=0,\n",
    "        max=merged_binding[\"effect\"].max(),\n",
    "        step=0.05,\n",
    "    ),\n",
    ")\n",
    "\n",
    "corr_base = (\n",
    "    alt.Chart(merged_binding)\n",
    "    .transform_filter(alt.datum[\"times_seen\"] >= times_seen_slider)\n",
    "    .transform_filter(alt.datum[\"n_models\"] >= n_libraries_slider)\n",
    "    .transform_filter(alt.datum[\"Lib_binding_std\"] <= lib_std_slider)\n",
    "    .transform_filter(alt.datum[\"effect\"] >= effect_slider)\n",
    "    .encode(\n",
    "        x=alt.X(\n",
    "            \"Lib1-250517-monomeric_ACE2\",\n",
    "            title=\"Lib-1 ACE2 binding\",\n",
    "            scale=alt.Scale(nice=False, padding=4),\n",
    "        ),\n",
    "        y=alt.Y(\n",
    "            \"Lib2-250517-monomeric_ACE2\",\n",
    "            title=\"Lib-2 ACE2 binding\",\n",
    "            scale=alt.Scale(nice=False, padding=4),\n",
    "        ),\n",
    "        tooltip=merged_binding.columns.tolist(),\n",
    "    )\n",
    "    .add_params(\n",
    "        times_seen_slider,\n",
    "        n_libraries_slider,\n",
    "        lib_std_slider,\n",
    "        mut_selection,\n",
    "        effect_slider,\n",
    "    )\n",
    "    .properties(width=170, height=170)\n",
    ")\n",
    "\n",
    "\n",
    "corr_scatter = (\n",
    "    corr_base\n",
    "    .encode(\n",
    "        color=alt.Color(\"ACE2_distance:N\", title=\"ACE2 distance\"),\n",
    "        opacity=alt.condition(mut_selection, alt.value(1), alt.value(0.5)),\n",
    "        strokeWidth=alt.condition(mut_selection, alt.value(2), alt.value(0)),\n",
    "        size=alt.condition(mut_selection, alt.value(50), alt.value(25)),\n",
    "    )\n",
    "    .mark_circle()\n",
    ")\n",
    "\n",
    "corr_r = (\n",
    "    corr_base\n",
    "    .transform_regression(\"Lib1-250517-monomeric_ACE2\", \"Lib2-250517-monomeric_ACE2\", params=True)\n",
    "    .transform_calculate(\n",
    "        r=alt.expr.if_(\n",
    "            alt.datum[\"coef\"][1] > 0,\n",
    "            alt.expr.sqrt(alt.datum[\"rSquared\"]),\n",
    "            -alt.expr.sqrt(alt.datum[\"rSquared\"]),\n",
    "        ),\n",
    "        r_text=\"r = \" + alt.expr.format(alt.datum[\"r\"], \".2f\"),\n",
    "    )\n",
    "    .encode(\n",
    "        text=\"r_text:N\",\n",
    "        x=alt.value(5),\n",
    "        y=alt.value(10),\n",
    "    )\n",
    "    .mark_text(size=14, align=\"left\", color=\"blue\")\n",
    ")\n",
    "\n",
    "corr_chart = (\n",
    "    (corr_scatter + corr_r)\n",
    "    .facet(\n",
    "        column=alt.Column(\n",
    "            \"ACE2_distance:N\",\n",
    "            title=None,\n",
    "            header=alt.Header(labelFontSize=12, labelFontWeight=\"bold\")\n",
    "        )\n",
    "    )\n",
    "    .configure_axis(grid=False)\n",
    "    .resolve_scale() \n",
    ")\n",
    "\n",
    "print(f\"Saving to {distance_library_binding_corr}\")\n",
    "corr_chart.save(distance_library_binding_corr)\n",
    "\n",
    "corr_chart"
   ]
  },
  {
   "cell_type": "code",
   "execution_count": null,
   "id": "2a56fe2d-f511-46d2-8e3c-ef807bf307e8",
   "metadata": {},
   "outputs": [],
   "source": []
  }
 ],
 "metadata": {
  "kernelspec": {
   "display_name": "Python 3 (ipykernel)",
   "language": "python",
   "name": "python3"
  },
  "language_info": {
   "codemirror_mode": {
    "name": "ipython",
    "version": 3
   },
   "file_extension": ".py",
   "mimetype": "text/x-python",
   "name": "python",
   "nbconvert_exporter": "python",
   "pygments_lexer": "ipython3",
   "version": "3.12.8"
  }
 },
 "nbformat": 4,
 "nbformat_minor": 5
}
