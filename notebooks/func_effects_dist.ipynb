{
 "cells": [
  {
   "cell_type": "markdown",
   "id": "ca2ef850-c75b-4538-a227-875be2933101",
   "metadata": {
    "editable": true,
    "papermill": {
     "duration": 0.011347,
     "end_time": "2024-02-27T22:55:52.459687",
     "exception": false,
     "start_time": "2024-02-27T22:55:52.448340",
     "status": "completed"
    },
    "slideshow": {
     "slide_type": ""
    },
    "tags": []
   },
   "source": [
    "# Distribution of functional effects\n",
    "Get input variables"
   ]
  },
  {
   "cell_type": "code",
   "execution_count": null,
   "id": "5e84b39a-0ed0-4d9e-9113-f80a384bfd9d",
   "metadata": {
    "editable": true,
    "papermill": {
     "duration": 0.024584,
     "end_time": "2024-02-27T22:55:52.490810",
     "exception": false,
     "start_time": "2024-02-27T22:55:52.466226",
     "status": "completed"
    },
    "slideshow": {
     "slide_type": ""
    },
    "tags": [
     "parameters"
    ]
   },
   "outputs": [],
   "source": [
    "# this cell tagged as `parameters` for `papermill` parameterization\n",
    "KP311_func_effects_csv = None \n",
    "XBB_func_effects_csv = None\n",
    "site_numbering_map_csv = None\n",
    "init_min_times_seen = None\n",
    "init_min_n_libraries = None\n",
    "max_effect_std = None\n",
    "key_mutations = None\n",
    "strain_corr_html = None\n",
    "natural_corr_html = None\n",
    "effects_boxplot_html = None\n",
    "key_muts_html = None\n"
   ]
  },
  {
   "cell_type": "code",
   "execution_count": null,
   "id": "967efdba-bae0-48ef-93b0-47140b47ec74",
   "metadata": {
    "editable": true,
    "papermill": {
     "duration": 16.736529,
     "end_time": "2024-02-27T22:56:09.261107",
     "exception": false,
     "start_time": "2024-02-27T22:55:52.524578",
     "status": "completed"
    },
    "slideshow": {
     "slide_type": ""
    },
    "tags": []
   },
   "outputs": [],
   "source": [
    "import altair as alt\n",
    "\n",
    "import numpy\n",
    "\n",
    "import pandas as pd\n",
    "\n",
    "import scipy.stats\n",
    "\n",
    "_ = alt.data_transformers.disable_max_rows()"
   ]
  },
  {
   "cell_type": "code",
   "execution_count": null,
   "id": "5d988881-0611-483d-9526-7699e3508570",
   "metadata": {
    "editable": true,
    "papermill": {
     "duration": 0.998014,
     "end_time": "2024-02-27T22:56:10.270497",
     "exception": false,
     "start_time": "2024-02-27T22:56:09.272483",
     "status": "completed"
    },
    "slideshow": {
     "slide_type": ""
    },
    "tags": []
   },
   "outputs": [],
   "source": [
    "site_numbering_map = pd.read_csv(site_numbering_map_csv)\n",
    "XBB_func_effects = pd.read_csv(XBB_func_effects_csv)\n",
    "KP311_func_effects = pd.read_csv(KP311_func_effects_csv)\n",
    "\n",
    "# Cast both site columns to string\n",
    "XBB_func_effects[\"site\"] = XBB_func_effects[\"site\"].astype(str)\n",
    "KP311_func_effects[\"site\"] = KP311_func_effects[\"site\"].astype(str)\n",
    "site_numbering_map[\"reference_site\"] = site_numbering_map[\"reference_site\"].astype(str)\n",
    "\n",
    "# Merge\n",
    "func_effects = pd.concat(\n",
    "    [\n",
    "        XBB_func_effects.assign(strain=\"XBB.1.5\"),\n",
    "        KP311_func_effects.assign(strain=\"KP.3.1.1\"),\n",
    "    ]\n",
    ").merge(\n",
    "    site_numbering_map.rename(columns={\"reference_site\": \"site\"})[[\"site\", \"region\"]],\n",
    "    on=\"site\"\n",
    ").query(\"effect_std <= @max_effect_std\")"
   ]
  },
  {
   "cell_type": "markdown",
   "id": "d3600804-4209-4aae-a765-6bd99f2fbf6a",
   "metadata": {
    "editable": true,
    "papermill": {
     "duration": 0.007313,
     "end_time": "2024-02-27T22:56:10.316329",
     "exception": false,
     "start_time": "2024-02-27T22:56:10.309016",
     "status": "completed"
    },
    "slideshow": {
     "slide_type": ""
    },
    "tags": []
   },
   "source": [
    "# Plot distribution of functional effects for different domains\n",
    "\n",
    "Make box plots:"
   ]
  },
  {
   "cell_type": "code",
   "execution_count": null,
   "id": "96db7f9b-4a46-4450-b574-40c4c70e7a9a",
   "metadata": {
    "editable": true,
    "papermill": {
     "duration": 0.873964,
     "end_time": "2024-02-27T22:56:11.197160",
     "exception": false,
     "start_time": "2024-02-27T22:56:10.323196",
     "status": "completed"
    },
    "slideshow": {
     "slide_type": ""
    },
    "tags": []
   },
   "outputs": [],
   "source": [
    "dist_df = (\n",
    "    func_effects\n",
    "    .query(\"wildtype != mutant\")\n",
    "    .query(\"wildtype != '*'\")\n",
    "    .assign(\n",
    "        mutation=lambda x: x[\"wildtype\"] + x[\"site\"].astype(str) + x[\"mutant\"],\n",
    "        mut_type=lambda x: numpy.where(\n",
    "            x[\"mutant\"] == \"*\",\n",
    "            \"stop codon\",\n",
    "            numpy.where(x[\"mutant\"] == \"-\", \"deletion\", \"substitution\"),\n",
    "        ),\n",
    "        times_seen=lambda x: x[\"times_seen\"].astype(int),\n",
    "    )\n",
    "    .rename(columns={\"n_selections\": \"n_libraries\"})\n",
    "    [[\"strain\", \"mutation\", \"effect\", \"mut_type\", \"region\", \"times_seen\", \"n_libraries\"]]\n",
    ")\n",
    "\n",
    "times_seen_slider = alt.param(\n",
    "    value=init_min_times_seen,\n",
    "    bind=alt.binding_range(\n",
    "        name=\"minimum times seen\",\n",
    "        min=1,\n",
    "        step=0.5,\n",
    "        max=min(10, dist_df[\"times_seen\"].max()),\n",
    "    ),\n",
    ")\n",
    "\n",
    "n_libraries_slider = alt.param(\n",
    "    value=init_min_n_libraries,\n",
    "    bind=alt.binding_range(\n",
    "        name=\"minimum number of libraries\",\n",
    "        min=1,\n",
    "        step=1,\n",
    "        max=dist_df[\"n_libraries\"].max(),\n",
    "    ),\n",
    ")\n",
    "\n",
    "effect_floor_slider = alt.param(\n",
    "    value=dist_df[\"effect\"].min(),\n",
    "    bind=alt.binding_range(\n",
    "        name=\"mutation effect floor (clip values < this)\",\n",
    "        min=dist_df[\"effect\"].min(),\n",
    "        max=0,\n",
    "    ),\n",
    ")\n",
    "\n",
    "n_mutations_slider = alt.param(\n",
    "    value=1,\n",
    "    bind=alt.binding_range(\n",
    "        name=\"mutation number of mutations to show category\",\n",
    "        min=1,\n",
    "        max=50,\n",
    "    ),\n",
    ")\n",
    "\n",
    "dist_boxplot = (\n",
    "    alt.Chart(dist_df)\n",
    "    .transform_filter(alt.datum[\"times_seen\"] > times_seen_slider)\n",
    "    .transform_filter(alt.datum[\"n_libraries\"] >= n_libraries_slider)\n",
    "    .transform_calculate(\n",
    "        effect_floored=alt.expr.max(alt.datum[\"effect\"], effect_floor_slider),\n",
    "    )\n",
    "    .transform_joinaggregate(\n",
    "        n_mutations=\"count()\",\n",
    "        groupby=[\"region\", \"strain\", \"mut_type\"],\n",
    "    )\n",
    "    .transform_filter(alt.datum[\"n_mutations\"] >= n_mutations_slider)\n",
    "    .encode(\n",
    "        x=alt.X(\n",
    "            \"mut_type\",\n",
    "            title=None,\n",
    "            axis=alt.Axis(labelFontSize=11, labelFontStyle=\"bold\", labelAngle=0),\n",
    "            scale=alt.Scale(domain=[\"substitution\", \"stop codon\", \"deletion\"]),\n",
    "        ),\n",
    "        y=alt.Y(\n",
    "            \"effect_floored:Q\",\n",
    "            title=\"mutation effect on cell entry\",\n",
    "            scale=alt.Scale(nice=False, padding=2),\n",
    "        ),\n",
    "        color=alt.Color(\"region\"),\n",
    "        xOffset=alt.XOffset(\"region\"),\n",
    "        column=alt.Column(\n",
    "            \"strain\",\n",
    "            title=None,\n",
    "            sort=[\"KP.3.1.1\", \"XBB.1.5\"],\n",
    "            header=alt.Header(labelFontSize=13, labelFontStyle=\"bold\", labelPadding=2),\n",
    "            spacing=2,\n",
    "        ),\n",
    "    )\n",
    "    .mark_boxplot(outliers=False, extent=0.75, size=12)\n",
    "    .configure_axis(grid=False)\n",
    "    .add_params(\n",
    "        times_seen_slider,\n",
    "        n_libraries_slider,\n",
    "        effect_floor_slider,\n",
    "        n_mutations_slider,\n",
    "    )\n",
    "    .properties(height=160, width=alt.Step(14))\n",
    ")\n",
    "\n",
    "print(f\"Saving to {effects_boxplot_html}\")\n",
    "dist_boxplot.save(effects_boxplot_html)\n",
    "\n",
    "dist_boxplot"
   ]
  },
  {
   "cell_type": "markdown",
   "id": "00a68be0-6e4f-4d72-b685-d4b38fc3da65",
   "metadata": {
    "papermill": {
     "duration": 0.057865,
     "end_time": "2024-02-27T22:57:42.293749",
     "exception": false,
     "start_time": "2024-02-27T22:57:42.235884",
     "status": "completed"
    },
    "tags": []
   },
   "source": [
    "## Correlation between KP.3.1.1 and XBB.1.5 mutation effects"
   ]
  },
  {
   "cell_type": "code",
   "execution_count": null,
   "id": "ea2164a3-bebc-4de1-bb78-57c796f2fe17",
   "metadata": {
    "papermill": {
     "duration": 0.186992,
     "end_time": "2024-02-27T22:57:42.540795",
     "exception": false,
     "start_time": "2024-02-27T22:57:42.353803",
     "status": "completed"
    },
    "tags": []
   },
   "outputs": [],
   "source": [
    "strain_corr_df = (\n",
    "    func_effects\n",
    "    .query(\"wildtype != mutant\")\n",
    "    .assign(\n",
    "        mutation=lambda x: x[\"wildtype\"] + x[\"site\"].astype(str) + x[\"mutant\"],\n",
    "        times_seen=lambda x: x.groupby(\"mutation\")[\"times_seen\"].transform(\"min\").astype(int),\n",
    "        n_libraries=lambda x: x.groupby(\"mutation\")[\"n_selections\"].transform(\"min\"),\n",
    "    )\n",
    "    .pivot_table(\n",
    "        index=[\"mutation\", \"times_seen\", \"n_libraries\"],\n",
    "        columns=\"strain\",\n",
    "        values=\"effect\",\n",
    "    )\n",
    "    .dropna(axis=0)\n",
    "    .reset_index()\n",
    "    .rename(columns={\"KP.3.1.1\": \"KP_3_1_1\", \"XBB.1.5\": \"XBB_1_5\"})\n",
    ")\n",
    "\n",
    "assert len(strain_corr_df) == strain_corr_df[\"mutation\"].nunique()"
   ]
  },
  {
   "cell_type": "code",
   "execution_count": null,
   "id": "7f3d85fb-3c94-4e32-81f5-c9163bb7c1da",
   "metadata": {
    "papermill": {
     "duration": 0.498363,
     "end_time": "2024-02-27T22:57:43.100009",
     "exception": false,
     "start_time": "2024-02-27T22:57:42.601646",
     "status": "completed"
    },
    "scrolled": true,
    "tags": []
   },
   "outputs": [],
   "source": [
    "mut_selection = alt.selection_point(fields=[\"mutation\"], on=\"mouseover\", empty=False)\n",
    "\n",
    "strain_corr_base = (\n",
    "    alt.Chart(strain_corr_df)\n",
    "    .transform_filter(alt.datum[\"times_seen\"] >= times_seen_slider)\n",
    "    .transform_filter(alt.datum[\"n_libraries\"] >= n_libraries_slider)\n",
    "    .encode(\n",
    "        x=alt.X(\n",
    "            \"KP_3_1_1\",\n",
    "            title=\"effect on cell entry in KP.3.1.1\",\n",
    "            scale=alt.Scale(nice=False, padding=4),\n",
    "        ),\n",
    "        y=alt.Y(\n",
    "            \"XBB_1_5\",\n",
    "            title=\"effect on cell entry in XBB.1.5\",\n",
    "            scale=alt.Scale(nice=False, padding=4),\n",
    "        ),\n",
    "        tooltip=strain_corr_df.columns.tolist(),\n",
    "    )\n",
    "    .add_params(\n",
    "        times_seen_slider,\n",
    "        n_libraries_slider,\n",
    "        mut_selection,\n",
    "    )\n",
    "    .properties(width=170, height=170)\n",
    ")\n",
    "\n",
    "strain_corr_scatter = (\n",
    "    strain_corr_base\n",
    "    .encode(\n",
    "        opacity=alt.condition(mut_selection, alt.value(1), alt.value(0.1)),\n",
    "        strokeWidth=alt.condition(mut_selection, alt.value(2), alt.value(0)),\n",
    "        size=alt.condition(mut_selection, alt.value(50), alt.value(25)),\n",
    "    )\n",
    "    .mark_circle(color=\"black\", stroke=\"red\")\n",
    ")\n",
    "\n",
    "strain_corr_r = (\n",
    "    strain_corr_base\n",
    "    .transform_regression(\"KP_3_1_1\", \"XBB_1_5\", params=True)\n",
    "    .transform_calculate(\n",
    "        r=alt.expr.if_(\n",
    "            alt.datum[\"coef\"][1] > 0,\n",
    "            alt.expr.sqrt(alt.datum[\"rSquared\"]),\n",
    "            -alt.expr.sqrt(alt.datum[\"rSquared\"]),\n",
    "        ),\n",
    "        r_text=\"r = \" + alt.expr.format(alt.datum[\"r\"], \".2f\"),\n",
    "    )\n",
    "    .encode(\n",
    "        text=\"r_text:N\",\n",
    "        x=alt.value(5),\n",
    "        y=alt.value(10),\n",
    "    )\n",
    "    .mark_text(size=14, align=\"left\", color=\"blue\")\n",
    ")\n",
    "\n",
    "strain_corr_chart = (strain_corr_scatter + strain_corr_r).configure_axis(grid=False)\n",
    "\n",
    "print(f\"Saving to {strain_corr_html}\")\n",
    "strain_corr_chart.save(strain_corr_html)\n",
    "\n",
    "strain_corr_chart"
   ]
  },
  {
   "cell_type": "markdown",
   "id": "20e51eab-4c8f-4553-abb9-bae2bf5b12d0",
   "metadata": {
    "papermill": {
     "duration": 0.063145,
     "end_time": "2024-02-27T22:57:43.228160",
     "exception": false,
     "start_time": "2024-02-27T22:57:43.165015",
     "status": "completed"
    },
    "tags": []
   },
   "source": [
    "## Effects of key mutations"
   ]
  },
  {
   "cell_type": "code",
   "execution_count": null,
   "id": "c50de070-044b-4312-9ce2-ddeb9cff4779",
   "metadata": {
    "papermill": {
     "duration": 0.111951,
     "end_time": "2024-02-27T22:57:43.408519",
     "exception": false,
     "start_time": "2024-02-27T22:57:43.296568",
     "status": "completed"
    },
    "tags": []
   },
   "outputs": [],
   "source": [
    "key_muts_effects = (\n",
    "    func_effects\n",
    "    .query(\"wildtype != mutant\")\n",
    "    .query(\"wildtype != '*'\")\n",
    "    .query(\"mutant != '*'\")\n",
    "    .assign(\n",
    "        mutation=lambda x: x[\"wildtype\"] + x[\"site\"].astype(str) + x[\"mutant\"],\n",
    "        times_seen=lambda x: x[\"times_seen\"].astype(int),\n",
    "        n_libraries=lambda x: x[\"n_selections\"],\n",
    "        mut_type=lambda x: numpy.where(x[\"mutant\"] == \"-\", \"deletion\", \"substitution\"),\n",
    "        jitter=lambda x: x[\"mutation\"].map(\n",
    "            lambda m: 0 if m not in key_mutations else key_mutations.index(m)\n",
    "        ),\n",
    "    )\n",
    "    [[\"strain\", \"mutation\", \"effect\", \"times_seen\", \"n_libraries\", \"jitter\"]]\n",
    ")"
   ]
  },
  {
   "cell_type": "code",
   "execution_count": null,
   "id": "0c9b9026-90c3-4b76-acc8-4df30437c83b",
   "metadata": {
    "papermill": {
     "duration": 0.084324,
     "end_time": "2024-02-27T22:57:44.208152",
     "exception": false,
     "start_time": "2024-02-27T22:57:44.123828",
     "status": "completed"
    },
    "tags": []
   },
   "outputs": [],
   "source": [
    "\n",
    "key_muts_chart = (\n",
    "    alt.Chart(key_muts_effects)\n",
    "    .transform_filter(alt.datum[\"times_seen\"] >= times_seen_slider)\n",
    "    .transform_filter(alt.datum[\"n_libraries\"] >= n_libraries_slider)\n",
    "    .transform_filter(alt.FieldOneOfPredicate(field=\"mutation\", oneOf=key_mutations))\n",
    "    .encode(\n",
    "        x=alt.X(\"mutation:N\", sort=key_mutations, axis=alt.Axis(labelAngle=-45)),\n",
    "        y=alt.Y(\"effect:Q\", title=\"mutation effect on cell entry\"),\n",
    "        color=alt.Color(\"strain:N\", title=\"Strain\"),\n",
    "        tooltip=[\"mutation\", \"effect\", \"strain\"],\n",
    "    )\n",
    "    .mark_point(filled=True, size=60, opacity=1)\n",
    "    .add_params(times_seen_slider, n_libraries_slider)\n",
    "    .configure_axis(grid=False)\n",
    "    .properties(width=alt.Step(40), height=180)\n",
    ")\n",
    "\n",
    "print(f\"Saving to {key_muts_html}\")\n",
    "key_muts_chart.save(key_muts_html)\n",
    "\n",
    "key_muts_chart"
   ]
  },
  {
   "cell_type": "code",
   "execution_count": null,
   "id": "da245690-9e31-4f8e-8b54-d044ba54b359",
   "metadata": {},
   "outputs": [],
   "source": []
  }
 ],
 "metadata": {
  "kernelspec": {
   "display_name": "Python 3 (ipykernel)",
   "language": "python",
   "name": "python3"
  },
  "language_info": {
   "codemirror_mode": {
    "name": "ipython",
    "version": 3
   },
   "file_extension": ".py",
   "mimetype": "text/x-python",
   "name": "python",
   "nbconvert_exporter": "python",
   "pygments_lexer": "ipython3",
   "version": "3.12.8"
  },
  "papermill": {
   "default_parameters": {},
   "duration": 116.878542,
   "end_time": "2024-02-27T22:57:44.814742",
   "environment_variables": {},
   "exception": null,
   "input_path": "notebooks/func_effects_dist.ipynb",
   "output_path": "results/notebooks/func_effects_dist.ipynb",
   "parameters": {
    "ba2_func_effects_csv": "https://raw.githubusercontent.com/dms-vep/SARS-CoV-2_Omicron_BA.2_spike_ACE2_binding/main/results/func_effects/averages/293T_high_ACE2_entry_func_effects.csv",
    "effects_boxplot_html": "results/func_effects_analyses/effects_boxplot.html",
    "fitness_csv": "https://raw.githubusercontent.com/jbloomlab/SARS2-mut-fitness/main/results_public_2023-10-01/aa_fitness/aa_fitness.csv",
    "init_expected_count": 20,
    "init_min_n_libraries": 2,
    "init_min_times_seen": 3,
    "key_mutations": [
     "P1143L",
     "F456L",
     "V483-"
    ],
    "key_muts_html": "results/func_effects_analyses/key_mutations.html",
    "max_effect_std": 1.6,
    "natural_corr_html": "results/func_effects_analyses/natural_corr.html",
    "site_numbering_map_csv": "data/site_numbering_map.csv",
    "strain_corr_html": "results/func_effects_analyses/strain_corr.html",
    "xbb15_func_effects_csv": "results/func_effects/averages/293T_high_ACE2_entry_func_effects.csv"
   },
   "start_time": "2024-02-27T22:55:47.936200",
   "version": "2.4.0"
  }
 },
 "nbformat": 4,
 "nbformat_minor": 5
}
